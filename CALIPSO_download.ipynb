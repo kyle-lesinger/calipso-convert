{
 "cells": [
  {
   "cell_type": "markdown",
   "metadata": {},
   "source": [
    "## [Download the data](https://search.earthdata.nasa.gov/search/granules/collection-details?p=C1633034978-LARC_ASDC&pg[0][x]=1633771299!LARC_ASDC&pg[0][v]=f&pg[0][gsk]=-start_date&g=G1950635724-LARC_ASDC&tl=1372680000!5!!&lat=-12.918196208915731&long=148.8136119045227&zoom=1)\n"
   ]
  },
  {
   "cell_type": "code",
   "execution_count": null,
   "metadata": {},
   "outputs": [
    {
     "name": "stderr",
     "output_type": "stream",
     "text": [
      "QUEUEING TASKS | : 100%|██████████| 1/1 [00:00<00:00, 1389.30it/s]\n",
      "PROCESSING TASKS | : 100%|██████████| 1/1 [03:09<00:00, 189.87s/it]\n",
      "COLLECTING RESULTS | : 100%|██████████| 1/1 [00:00<00:00, 20867.18it/s]\n"
     ]
    },
    {
     "name": "stdout",
     "output_type": "stream",
     "text": [
      "Saved to: hdf_dir/CAL_LID_L3_Tropospheric_APro_AllSky-Standard-V4-20.2018-12N.hdf\n"
     ]
    },
    {
     "name": "stderr",
     "output_type": "stream",
     "text": [
      "QUEUEING TASKS | : 100%|██████████| 1/1 [00:00<00:00, 2427.26it/s]\n",
      "PROCESSING TASKS | : 100%|██████████| 1/1 [02:46<00:00, 166.64s/it]\n",
      "COLLECTING RESULTS | : 100%|██████████| 1/1 [00:00<00:00, 18558.87it/s]\n"
     ]
    },
    {
     "name": "stdout",
     "output_type": "stream",
     "text": [
      "Saved to: hdf_dir/CAL_LID_L3_Tropospheric_APro_AllSky-Standard-V4-20.2018-12D.hdf\n"
     ]
    },
    {
     "name": "stderr",
     "output_type": "stream",
     "text": [
      "QUEUEING TASKS | : 100%|██████████| 1/1 [00:00<00:00, 1540.32it/s]\n",
      "PROCESSING TASKS | : 100%|██████████| 1/1 [01:59<00:00, 119.11s/it]\n",
      "COLLECTING RESULTS | : 100%|██████████| 1/1 [00:00<00:00, 17848.10it/s]\n"
     ]
    },
    {
     "name": "stdout",
     "output_type": "stream",
     "text": [
      "Saved to: hdf_dir/CAL_LID_L3_Tropospheric_APro_AllSky-Standard-V4-20.2019-01N.hdf\n"
     ]
    },
    {
     "name": "stderr",
     "output_type": "stream",
     "text": [
      "QUEUEING TASKS | : 100%|██████████| 1/1 [00:00<00:00, 1666.39it/s]\n",
      "PROCESSING TASKS | : 100%|██████████| 1/1 [01:54<00:00, 114.63s/it]\n",
      "COLLECTING RESULTS | : 100%|██████████| 1/1 [00:00<00:00, 35544.95it/s]\n"
     ]
    },
    {
     "name": "stdout",
     "output_type": "stream",
     "text": [
      "Saved to: hdf_dir/CAL_LID_L3_Tropospheric_APro_AllSky-Standard-V4-20.2019-01D.hdf\n"
     ]
    },
    {
     "name": "stderr",
     "output_type": "stream",
     "text": [
      "QUEUEING TASKS | : 100%|██████████| 1/1 [00:00<00:00, 2652.94it/s]\n",
      "PROCESSING TASKS | :   0%|          | 0/1 [00:00<?, ?it/s]"
     ]
    }
   ],
   "source": [
    "from earthaccess import Auth, search_data, download\n",
    "import datetime\n",
    "from pathlib import Path\n",
    "import rioxarray as rxr\n",
    "import os\n",
    "\n",
    "#MCALIPSO\n",
    "\n",
    "# Authenticate and search\n",
    "auth = Auth(); auth.login(strategy=\"netrc\")\n",
    "\n",
    "# 2) Search with a U.S. bounding box:\n",
    "#    (min_lon, min_lat, max_lon, max_lat)\n",
    "us_bbox = (-125.0, 24.0, -66.5, 49.5)\n",
    "\n",
    "\n",
    "results = search_data(\n",
    "    short_name=\"CAL_LID_L3_Tropospheric_APro_AllSky-Standard-V4-20\",\n",
    "    temporal=(datetime.datetime(2019,1,1), datetime.datetime(2019,5,31)),\n",
    "    count=300,\n",
    "    bounding_box = us_bbox,\n",
    "    cloud_hosted=True\n",
    ")\n",
    "\n",
    "for granule in results:\n",
    "    # Download to working directory\n",
    "    local_paths = download([granule], local_path=Path(out_dir))\n",
    "    local_file = local_paths[0]\n",
    "    print(\"Saved to:\", local_file)\n"
   ]
  }
 ],
 "metadata": {
  "kernelspec": {
   "display_name": "gdal",
   "language": "python",
   "name": "python3"
  },
  "language_info": {
   "codemirror_mode": {
    "name": "ipython",
    "version": 3
   },
   "file_extension": ".py",
   "mimetype": "text/x-python",
   "name": "python",
   "nbconvert_exporter": "python",
   "pygments_lexer": "ipython3",
   "version": "3.12.10"
  }
 },
 "nbformat": 4,
 "nbformat_minor": 4
}
