{
 "cells": [
  {
   "cell_type": "markdown",
   "metadata": {},
   "source": [
    "# Text to LAS Conversion with PDAL\n",
    "\n",
    "This notebook demonstrates converting text point cloud data to LAS format using PDAL pipelines."
   ]
  },
  {
   "cell_type": "code",
   "execution_count": null,
   "metadata": {},
   "outputs": [],
   "source": [
    "# Import required libraries\n",
    "from pathlib import Path\n",
    "import subprocess\n",
    "from calipso_tool.converter import txt_to_las_pipeline, h4_to_las\n",
    "from calipso_tool.txt_to_las import txt_to_las"
   ]
  },
  {
   "cell_type": "markdown",
   "metadata": {},
   "source": [
    "## Method 1: Direct Text to LAS Conversion\n",
    "\n",
    "If you already have a text file from the HDF5 conversion."
   ]
  },
  {
   "cell_type": "code",
   "execution_count": null,
   "metadata": {},
   "outputs": [],
   "source": [
    "# Define input text file\n",
    "txt_file = Path(\"CAL_LID_L3_Tropospheric_APro_AllSky-Standard-V4-21.2020-12D.txt\")\n",
    "variable_name = \"Samples_Averaged_Polluted_Dust\"  # Replace with your actual variable name\n",
    "\n",
    "if txt_file.exists():\n",
    "    print(f\"Text file found: {txt_file}\")\n",
    "    \n",
    "    # Convert to LAS\n",
    "    las_file = txt_to_las_pipeline(\n",
    "        input_txt=txt_file,\n",
    "        variable_name=variable_name\n",
    "    )\n",
    "    \n",
    "    print(f\"\\nLAS file created: {las_file}\")\n",
    "else:\n",
    "    print(f\"Text file not found: {txt_file}\")\n",
    "    print(\"Please run the HDF5 to text conversion first.\")"
   ]
  },
  {
   "cell_type": "markdown",
   "metadata": {},
   "source": [
    "## Method 2: Complete Pipeline (HDF4 → LAS)\n",
    "\n",
    "Convert directly from HDF4 to LAS with all intermediate steps."
   ]
  },
  {
   "cell_type": "code",
   "execution_count": null,
   "metadata": {},
   "outputs": [],
   "source": [
    "# Define input HDF4 file\n",
    "hdf4_file = Path(\"CAL_LID_L3_Tropospheric_APro_AllSky-Standard-V4-20.2018-12D.hdf\")\n",
    "variable_name = \"var_to_grab\"  # Replace with your actual variable name\n",
    "\n",
    "if hdf4_file.exists():\n",
    "    print(f\"HDF4 file found: {hdf4_file}\")\n",
    "    \n",
    "    # Run complete pipeline\n",
    "    las_file, h5_file, txt_file = h4_to_las(\n",
    "        input_h4=hdf4_file,\n",
    "        variable_name=variable_name,\n",
    "        keep_intermediates=True  # Keep intermediate files for inspection\n",
    "    )\n",
    "    \n",
    "    print(f\"\\nPipeline complete!\")\n",
    "    print(f\"- LAS file: {las_file}\")\n",
    "    print(f\"- HDF5 file: {h5_file}\")\n",
    "    print(f\"- Text file: {txt_file}\")\n",
    "else:\n",
    "    print(f\"HDF4 file not found: {hdf4_file}\")"
   ]
  },
  {
   "cell_type": "markdown",
   "metadata": {},
   "source": [
    "## Inspect LAS File\n",
    "\n",
    "Use PDAL to get information about the created LAS file."
   ]
  },
  {
   "cell_type": "code",
   "execution_count": null,
   "metadata": {},
   "outputs": [],
   "source": [
    "# Check if LAS file exists and get info\n",
    "las_files = list(Path(\".\").glob(\"*.las\"))\n",
    "\n",
    "if las_files:\n",
    "    las_file = las_files[0]  # Use first LAS file found\n",
    "    print(f\"Inspecting: {las_file}\\n\")\n",
    "    \n",
    "    # Get summary info\n",
    "    result = subprocess.run(\n",
    "        [\"pdal\", \"info\", str(las_file), \"--summary\"],\n",
    "        capture_output=True,\n",
    "        text=True\n",
    "    )\n",
    "    \n",
    "    if result.returncode == 0:\n",
    "        print(\"LAS File Summary:\")\n",
    "        print(result.stdout)\n",
    "    else:\n",
    "        print(f\"Error getting info: {result.stderr}\")\n",
    "else:\n",
    "    print(\"No LAS files found in current directory\")"
   ]
  },
  {
   "cell_type": "markdown",
   "metadata": {},
   "source": [
    "## Using Custom Pipeline Parameters\n",
    "\n",
    "You can customize the conversion parameters for specific needs."
   ]
  },
  {
   "cell_type": "code",
   "execution_count": null,
   "metadata": {},
   "outputs": [],
   "source": [
    "# Custom conversion with specific scale factors\n",
    "if txt_file.exists():\n",
    "    custom_las = txt_to_las(\n",
    "        input_txt=txt_file,\n",
    "        output_las=\"custom_scaled.las\",\n",
    "        variable_name=variable_name,\n",
    "        scale_x=1e-6,  # Higher precision for longitude\n",
    "        scale_y=1e-6,  # Higher precision for latitude\n",
    "        scale_z=0.001, # Millimeter precision for altitude\n",
    "        srs=\"EPSG:4326\"  # WGS84 coordinate system\n",
    "    )\n",
    "    \n",
    "    print(f\"Created custom LAS: {custom_las}\")"
   ]
  },
  {
   "cell_type": "markdown",
   "metadata": {},
   "source": [
    "## Batch Processing\n",
    "\n",
    "Process multiple text files to LAS."
   ]
  },
  {
   "cell_type": "code",
   "execution_count": null,
   "metadata": {},
   "outputs": [],
   "source": [
    "# Find all text files and convert them\n",
    "txt_files = list(Path(\".\").glob(\"*.txt\"))\n",
    "\n",
    "if txt_files:\n",
    "    print(f\"Found {len(txt_files)} text files to convert\\n\")\n",
    "    \n",
    "    for txt_file in txt_files:\n",
    "        try:\n",
    "            las_file = txt_to_las_pipeline(\n",
    "                input_txt=txt_file,\n",
    "                variable_name=variable_name\n",
    "            )\n",
    "            print(f\"✓ Converted: {txt_file.name} → {las_file.name}\")\n",
    "        except Exception as e:\n",
    "            print(f\"✗ Failed: {txt_file.name} - {e}\")\n",
    "else:\n",
    "    print(\"No text files found in current directory\")"
   ]
  },
  {
   "cell_type": "markdown",
   "metadata": {},
   "source": [
    "## Command Line Usage\n",
    "\n",
    "You can also use the text to LAS converter from the command line:\n",
    "\n",
    "```bash\n",
    "# Basic usage\n",
    "python -m calipso_tool.txt_to_las input.txt -v Extinction_Coefficient_532\n",
    "\n",
    "# With custom output\n",
    "python -m calipso_tool.txt_to_las input.txt -o output.las -v Temperature_Met\n",
    "\n",
    "# With custom scaling\n",
    "python -m calipso_tool.txt_to_las input.txt --scale-x 1e-6 --scale-y 1e-6 --scale-z 0.001\n",
    "\n",
    "# Using specific pipeline JSON\n",
    "python -m calipso_tool.txt_to_las input.txt -p custom_pipeline.json -v var_name\n",
    "```"
   ]
  },
  {
   "cell_type": "markdown",
   "metadata": {},
   "source": [
    "## Next Step: LAS to COPC\n",
    "\n",
    "After creating LAS files, the next step is to convert them to Cloud-Optimized Point Cloud (COPC) format:\n",
    "\n",
    "```bash\n",
    "pdal pipeline las2copc.json --readers.las.filename=input.las --writers.copc.filename=output.copc.las\n",
    "```"
   ]
  }
 ],
 "metadata": {
  "kernelspec": {
   "display_name": "Python 3",
   "language": "python",
   "name": "python3"
  },
  "language_info": {
   "codemirror_mode": {
    "name": "ipython",
    "version": 3
   },
   "file_extension": ".py",
   "mimetype": "text/x-python",
   "name": "python",
   "nbconvert_exporter": "python",
   "pygments_lexer": "ipython3",
   "version": "3.10.0"
  }
 },
 "nbformat": 4,
 "nbformat_minor": 4
}
