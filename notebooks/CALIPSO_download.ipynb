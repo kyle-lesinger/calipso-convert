{
 "cells": [
  {
   "cell_type": "markdown",
   "metadata": {},
   "source": [
    "## [Download the data](https://search.earthdata.nasa.gov/search/granules/collection-details?p=C1633034978-LARC_ASDC&pg[0][x]=1633771299!LARC_ASDC&pg[0][v]=f&pg[0][gsk]=-start_date&g=G1950635724-LARC_ASDC&tl=1372680000!5!!&lat=-12.918196208915731&long=148.8136119045227&zoom=1)\n"
   ]
  },
  {
   "cell_type": "code",
   "execution_count": null,
   "metadata": {},
   "outputs": [
    {
     "name": "stderr",
     "output_type": "stream",
     "text": [
      "/opt/anaconda3/envs/calipso-tool-env/lib/python3.10/site-packages/tqdm/auto.py:21: TqdmWarning: IProgress not found. Please update jupyter and ipywidgets. See https://ipywidgets.readthedocs.io/en/stable/user_install.html\n",
      "  from .autonotebook import tqdm as notebook_tqdm\n"
     ]
    },
    {
     "ename": "NameError",
     "evalue": "name 'out_dir' is not defined",
     "output_type": "error",
     "traceback": [
      "\u001b[0;31m---------------------------------------------------------------------------\u001b[0m",
      "\u001b[0;31mNameError\u001b[0m                                 Traceback (most recent call last)",
      "Cell \u001b[0;32mIn[2], line 27\u001b[0m\n\u001b[1;32m     17\u001b[0m results \u001b[38;5;241m=\u001b[39m search_data(\n\u001b[1;32m     18\u001b[0m     short_name\u001b[38;5;241m=\u001b[39m\u001b[38;5;124m\"\u001b[39m\u001b[38;5;124mCAL_LID_L3_Tropospheric_APro_AllSky-Standard-V4-20\u001b[39m\u001b[38;5;124m\"\u001b[39m,\n\u001b[1;32m     19\u001b[0m     temporal\u001b[38;5;241m=\u001b[39m(datetime\u001b[38;5;241m.\u001b[39mdatetime(\u001b[38;5;241m2019\u001b[39m,\u001b[38;5;241m1\u001b[39m,\u001b[38;5;241m1\u001b[39m), datetime\u001b[38;5;241m.\u001b[39mdatetime(\u001b[38;5;241m2019\u001b[39m,\u001b[38;5;241m5\u001b[39m,\u001b[38;5;241m31\u001b[39m)),\n\u001b[0;32m   (...)\u001b[0m\n\u001b[1;32m     22\u001b[0m     cloud_hosted\u001b[38;5;241m=\u001b[39m\u001b[38;5;28;01mTrue\u001b[39;00m\n\u001b[1;32m     23\u001b[0m )\n\u001b[1;32m     25\u001b[0m \u001b[38;5;28;01mfor\u001b[39;00m granule \u001b[38;5;129;01min\u001b[39;00m results:\n\u001b[1;32m     26\u001b[0m     \u001b[38;5;66;03m# Download to working directory\u001b[39;00m\n\u001b[0;32m---> 27\u001b[0m     local_paths \u001b[38;5;241m=\u001b[39m download([granule], local_path\u001b[38;5;241m=\u001b[39mPath(\u001b[43mout_dir\u001b[49m))\n\u001b[1;32m     28\u001b[0m     local_file \u001b[38;5;241m=\u001b[39m local_paths[\u001b[38;5;241m0\u001b[39m]\n\u001b[1;32m     29\u001b[0m     \u001b[38;5;28mprint\u001b[39m(\u001b[38;5;124m\"\u001b[39m\u001b[38;5;124mSaved to:\u001b[39m\u001b[38;5;124m\"\u001b[39m, local_file)\n",
      "\u001b[0;31mNameError\u001b[0m: name 'out_dir' is not defined"
     ]
    }
   ],
   "source": [
    "from earthaccess import Auth, search_data, download\n",
    "import datetime\n",
    "from pathlib import Path\n",
    "import rioxarray as rxr\n",
    "import os\n",
    "\n",
    "#MCALIPSO\n",
    "\n",
    "\n",
    "# Authenticate and search\n",
    "auth = Auth(); auth.login(strategy=\"netrc\")\n",
    "\n",
    "# 2) Search with a U.S. bounding box:\n",
    "#    (min_lon, min_lat, max_lon, max_lat)\n",
    "us_bbox = (-125.0, 24.0, -66.5, 49.5)\n",
    "\n",
    "\n",
    "results = search_data(\n",
    "    short_name=\"CAL_LID_L3_Tropospheric_APro_AllSky-Standard-V4-20\",\n",
    "    temporal=(datetime.datetime(2019,1,1), datetime.datetime(2019,5,31)),\n",
    "    count=300,\n",
    "    bounding_box = us_bbox,\n",
    "    cloud_hosted=True\n",
    ")\n",
    "\n",
    "for granule in results:\n",
    "    # Download to working directory\n",
    "    local_paths = download([granule], local_path=Path(\".\"))\n",
    "    local_file = local_paths[0]\n",
    "    print(\"Saved to:\", local_file)\n"
   ]
  },
  {
   "cell_type": "code",
   "execution_count": null,
   "metadata": {},
   "outputs": [],
   "source": []
  }
 ],
 "metadata": {
  "kernelspec": {
   "display_name": "calipso-tool-env",
   "language": "python",
   "name": "python3"
  },
  "language_info": {
   "codemirror_mode": {
    "name": "ipython",
    "version": 3
   },
   "file_extension": ".py",
   "mimetype": "text/x-python",
   "name": "python",
   "nbconvert_exporter": "python",
   "pygments_lexer": "ipython3",
   "version": "3.10.17"
  }
 },
 "nbformat": 4,
 "nbformat_minor": 4
}
